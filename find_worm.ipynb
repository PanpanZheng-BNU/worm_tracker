{
 "cells": [
  {
   "cell_type": "code",
   "execution_count": 2,
   "id": "3a7b2135",
   "metadata": {},
   "outputs": [],
   "source": [
    "from tracker.iou import iou\n",
    "from tracker.concat_trackers import *\n",
    "from tracker.find_worms import *\n",
    "import os \n",
    "\n",
    "warnings.simplefilter(action='ignore', category=FutureWarning)"
   ]
  },
  {
   "cell_type": "code",
   "execution_count": 3,
   "id": "b7f964d1",
   "metadata": {},
   "outputs": [],
   "source": [
    "p2tracker = \"./simple_trackers_result/n2_3_7_05.30\"\n",
    "analysis_folder = os.path.split(p2tracker)[-1]"
   ]
  },
  {
   "cell_type": "code",
   "execution_count": null,
   "id": "fa06cf0d",
   "metadata": {},
   "outputs": [
    {
     "data": {
      "text/plain": [
       "'./simple_trackers_result'"
      ]
     },
     "execution_count": 4,
     "metadata": {},
     "output_type": "execute_result"
    }
   ],
   "source": []
  },
  {
   "cell_type": "markdown",
   "id": "ab87c6b3",
   "metadata": {},
   "source": [
    "# Part I load subjects and obtain finer trackers"
   ]
  },
  {
   "cell_type": "code",
   "execution_count": 5,
   "id": "02c74bdc",
   "metadata": {},
   "outputs": [
    {
     "data": {
      "text/plain": [
       "<Axes: xlabel='frame'>"
      ]
     },
     "execution_count": 5,
     "metadata": {},
     "output_type": "execute_result"
    },
    {
     "data": {
      "image/png": "[encoded data removed]",
      "text/plain": [
       "<Figure size 640x480 with 1 Axes>"
      ]
     },
     "metadata": {},
     "output_type": "display_data"
    }
   ],
   "source": [
    "all_trackers, long_dfs, centroid = load_subj('simple_trackers_result', analysis_folder) # load the Petri dish tracker results\n",
    "new_trackers, new_summarize = trackers2fine(all_trackers, long_dfs)     # convert the trackers to finer trackers\n",
    "long_dfs.groupby('frame').size().plot() # visualize the number of worms per frame"
   ]
  },
  {
   "cell_type": "markdown",
   "id": "75532ed5",
   "metadata": {},
   "source": [
    "# PART II Find initial worms"
   ]
  },
  {
   "cell_type": "code",
   "execution_count": 6,
   "id": "a8a66dbb",
   "metadata": {},
   "outputs": [
    {
     "name": "stdout",
     "output_type": "stream",
     "text": [
      "10\n"
     ]
    }
   ],
   "source": [
    "all_ini = find_initial(long_dfs, 10, new_summarize)\n",
    "ini_indx = all_ini.sort_values(by='start_frame').tracker_id.values\n",
    "print(len(ini_indx))"
   ]
  },
  {
   "cell_type": "markdown",
   "id": "a2ae85f9",
   "metadata": {},
   "source": [
    "# PART III Find & Diagnosis & Save worms"
   ]
  },
  {
   "cell_type": "code",
   "execution_count": 7,
   "id": "6232599a",
   "metadata": {},
   "outputs": [
    {
     "name": "stdout",
     "output_type": "stream",
     "text": [
      "$[313] all path banned\n",
      "$[112] all path banned\n",
      "worm 3 end frame < max frame\n",
      "worm 6 end frame < max frame\n",
      "worm 8 end frame < max frame\n",
      "worm 9 end frame < max frame\n"
     ]
    }
   ],
   "source": [
    "# find worms based on the initial indices and summarized dataframe\n",
    "worms = find_worms(ini_indx, new_summarize)\n",
    "valid_worms = diagnosis_worms_square(worms, new_summarize, centroid, long_dfs, 870)"
   ]
  },
  {
   "cell_type": "code",
   "execution_count": null,
   "id": "84906687",
   "metadata": {},
   "outputs": [
    {
     "name": "stderr",
     "output_type": "stream",
     "text": [
      "/Users/zhengpanpan/miniconda3/envs/worm-tracker/lib/python3.9/site-packages/plotly/matplotlylib/renderer.py:609: UserWarning:\n",
      "\n",
      "I found a path object that I don't think is part of a bar chart. Ignoring.\n",
      "\n",
      "/Users/zhengpanpan/miniconda3/envs/worm-tracker/lib/python3.9/site-packages/plotly/matplotlylib/renderer.py:609: UserWarning:\n",
      "\n",
      "I found a path object that I don't think is part of a bar chart. Ignoring.\n",
      "\n",
      "/Users/zhengpanpan/miniconda3/envs/worm-tracker/lib/python3.9/site-packages/plotly/matplotlylib/renderer.py:609: UserWarning:\n",
      "\n",
      "I found a path object that I don't think is part of a bar chart. Ignoring.\n",
      "\n",
      "/Users/zhengpanpan/miniconda3/envs/worm-tracker/lib/python3.9/site-packages/plotly/matplotlylib/renderer.py:609: UserWarning:\n",
      "\n",
      "I found a path object that I don't think is part of a bar chart. Ignoring.\n",
      "\n",
      "/Users/zhengpanpan/miniconda3/envs/worm-tracker/lib/python3.9/site-packages/plotly/matplotlylib/renderer.py:609: UserWarning:\n",
      "\n",
      "I found a path object that I don't think is part of a bar chart. Ignoring.\n",
      "\n",
      "/Users/zhengpanpan/miniconda3/envs/worm-tracker/lib/python3.9/site-packages/plotly/matplotlylib/renderer.py:609: UserWarning:\n",
      "\n",
      "I found a path object that I don't think is part of a bar chart. Ignoring.\n",
      "\n"
     ]
    }
   ],
   "source": [
    "# Save results:\n",
    "## analysis_folder specifies the name of the subfolder where results will be saved\n",
    "write_results(analysis_folder, valid_worms, new_trackers, centroid, 900, shape='square')"
   ]
  },
  {
   "cell_type": "code",
   "execution_count": null,
   "id": "76613f17",
   "metadata": {},
   "outputs": [],
   "source": []
  },
  {
   "cell_type": "code",
   "execution_count": null,
   "id": "24821b71",
   "metadata": {},
   "outputs": [
    {
     "data": {
      "text/plain": [
       "[array([ 90,  91, 295, 298, 307, 324, 327, 337, 338, 340, 344, 347, 351,\n",
       "        366, 372, 374, 388, 391, 393, 397, 398, 399, 400, 401, 402, 407,\n",
       "        410, 412, 415, 420, 423, 424, 427, 431, 434, 436, 441, 444, 446,\n",
       "        447, 450, 451, 452, 456, 458, 462, 470, 475, 484, 486, 491, 507,\n",
       "        521]),\n",
       " array([ 28,  87,  96, 107, 108, 153, 233, 236, 239, 416, 426, 430, 438,\n",
       "        445, 455, 461, 469, 477, 479, 482, 485, 490, 494, 496, 497, 498,\n",
       "        501, 518, 524]),\n",
       " array([127, 137, 149, 151, 229, 230, 231, 234, 235, 237, 244, 247, 248,\n",
       "        249, 251, 252, 254, 256, 257, 258, 259, 265, 266, 267, 270, 272,\n",
       "        274, 275, 276]),\n",
       " array([  8,   9,  11, 111, 119, 129, 155, 172, 180, 181, 184, 284, 292,\n",
       "        293, 301, 310, 313, 319, 322, 326, 335]),\n",
       " array([  2,   4,  10,  12,  30, 103,  32,  33,  34,  35,  36,  37,  38,\n",
       "         39,  40,  41,  42,  43,  44,  45,  46,  47,  48,  49,  50,  51,\n",
       "         52,  53,  54,  55,  56,  57,  58,  60,  62,  63,  64,  65,  66,\n",
       "         67,  68,  69,  70,  71,  72,  73,  74,  75,  76,  77,  78,  81,\n",
       "         82,  83,  86,  89,  92,  93,  94,  95,  97,  98,  99, 100, 102,\n",
       "        105, 106, 110, 112, 113, 114, 115, 116, 117, 118, 120, 121, 122,\n",
       "        123, 124, 125, 126, 128, 130, 131, 132, 133, 134, 135, 136, 138,\n",
       "        139, 140, 141, 146, 148, 152]),\n",
       " array([ 14,  15,  85,  91, 179, 404, 214, 230, 306,  -1]),\n",
       " array([  3,  13,  15,  16,  26,  27, 403, 404, 405, 503, 504, 505, 506,\n",
       "        508, 510, 512, 519]),\n",
       " array([ 25,  26, 287, 380, 395]),\n",
       " array([  7,  17,  79,  80,  84, 101, 142, 144, 147, 150, 154, 156, 166,\n",
       "        168, 175, 177, 182, 185, 190, 198, 201, 207, 217, 223, 224, 241,\n",
       "        242, 243, 245, 246, 250, 260, 261, 264, 268, 273, 277, 279, 280,\n",
       "        281, 282, 283, 285, 288, 290, 302, 303, 309, 311, 312, 315, 316,\n",
       "        318, 321, 330, 332, 336]),\n",
       " array([  1,  18,  19,  20,  21,  22,  23,  24,  29,  31, 103, 104, 109,\n",
       "         -1])]"
      ]
     },
     "execution_count": 10,
     "metadata": {},
     "output_type": "execute_result"
    }
   ],
   "source": [
    "worms"
   ]
  }
 ],
 "metadata": {
  "kernelspec": {
   "display_name": "worm-tracker",
   "language": "python",
   "name": "python3"
  },
  "language_info": {
   "codemirror_mode": {
    "name": "ipython",
    "version": 3
   },
   "file_extension": ".py",
   "mimetype": "text/x-python",
   "name": "python",
   "nbconvert_exporter": "python",
   "pygments_lexer": "ipython3",
   "version": "3.9.21"
  }
 },
 "nbformat": 4,
 "nbformat_minor": 5
}
